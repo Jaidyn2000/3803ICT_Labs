{
 "cells": [
  {
   "cell_type": "code",
   "execution_count": 1,
   "metadata": {},
   "outputs": [
    {
     "name": "stdout",
     "output_type": "stream",
     "text": [
      "['Bryan', 'is', 'in', 'the', 'kitchen']\n"
     ]
    }
   ],
   "source": [
    "document = 'Bryan is in the kitchen'\n",
    "tokens = document.split(' ')\n",
    "print(tokens)"
   ]
  },
  {
   "cell_type": "code",
   "execution_count": 6,
   "metadata": {},
   "outputs": [
    {
     "name": "stdout",
     "output_type": "stream",
     "text": [
      "[\"Ain't\", 'no', 'sunshine', 'when', \"she's\", 'gone.', 'And', \"she's\", 'always', 'gone', 'too', 'long.', 'Anytime', 'she', 'goes', 'away']\n"
     ]
    }
   ],
   "source": [
    "document = \"Ain't no sunshine when she's gone. And she's always gone too long. Anytime she goes away\"\n",
    "tokens = document.split(' ')\n",
    "print(tokens)"
   ]
  },
  {
   "cell_type": "code",
   "execution_count": 8,
   "metadata": {},
   "outputs": [
    {
     "name": "stdout",
     "output_type": "stream",
     "text": [
      "showing info https://raw.githubusercontent.com/nltk/nltk_data/gh-pages/index.xml\n"
     ]
    }
   ],
   "source": [
    "from nltk.tokenize import word_tokenize\n",
    "import nltk\n",
    "nltk.download()\n",
    "tokens = word_tokenize(document)\n"
   ]
  },
  {
   "cell_type": "code",
   "execution_count": 9,
   "metadata": {},
   "outputs": [
    {
     "name": "stdout",
     "output_type": "stream",
     "text": [
      "['Ai', \"n't\", 'no', 'sunshine', 'when', 'she', \"'s\", 'gone', '.', 'And', 'she', \"'s\", 'always', 'gone', 'too', 'long', '.', 'Anytime', 'she', 'goes', 'away']\n"
     ]
    }
   ],
   "source": [
    "print(tokens)"
   ]
  },
  {
   "cell_type": "code",
   "execution_count": 10,
   "metadata": {},
   "outputs": [
    {
     "name": "stdout",
     "output_type": "stream",
     "text": [
      "['Ai', 'no', 'sunshine', 'when', 'she', 'gone', 'And', 'she', 'always', 'gone', 'too', 'long', 'Anytime', 'she', 'goes', 'away']\n"
     ]
    }
   ],
   "source": [
    "tokens = [t for t in tokens if t.isalpha()]\n",
    "print(tokens)"
   ]
  },
  {
   "cell_type": "code",
   "execution_count": 14,
   "metadata": {},
   "outputs": [
    {
     "name": "stdout",
     "output_type": "stream",
     "text": [
      "['i', 'me', 'my', 'myself', 'we', 'our', 'ours', 'ourselves', 'you', \"you're\"]\n"
     ]
    }
   ],
   "source": [
    "from nltk.corpus import stopwords\n",
    "\n",
    "stopWords = stopwords.words('english')\n",
    "print(stopWords[:10])"
   ]
  },
  {
   "cell_type": "code",
   "execution_count": 15,
   "metadata": {},
   "outputs": [
    {
     "name": "stdout",
     "output_type": "stream",
     "text": [
      "['Ai', 'sunshine', 'gone', 'And', 'always', 'gone', 'long', 'Anytime', 'goes', 'away']\n"
     ]
    }
   ],
   "source": [
    "tokenNoStops = [t for t in tokens if t not in stopWords]\n",
    "print(tokenNoStops)"
   ]
  },
  {
   "cell_type": "code",
   "execution_count": 16,
   "metadata": {},
   "outputs": [],
   "source": [
    "from nltk.stem import PorterStemmer\n",
    "from nltk.stem import WordNetLemmatizer\n",
    "\n",
    "stemmer = PorterStemmer()\n",
    "lemmatiser = WordNetLemmatizer()"
   ]
  },
  {
   "cell_type": "code",
   "execution_count": 17,
   "metadata": {},
   "outputs": [
    {
     "name": "stdout",
     "output_type": "stream",
     "text": [
      "connect connect connect\n"
     ]
    }
   ],
   "source": [
    "print(stemmer.stem('connection'), stemmer.stem('connected'), stemmer.stem('connective'))"
   ]
  },
  {
   "cell_type": "code",
   "execution_count": 18,
   "metadata": {},
   "outputs": [
    {
     "name": "stdout",
     "output_type": "stream",
     "text": [
      "mean mean\n"
     ]
    }
   ],
   "source": [
    "print(stemmer.stem('meaning'), stemmer.stem('meanness'))"
   ]
  },
  {
   "cell_type": "code",
   "execution_count": 23,
   "metadata": {},
   "outputs": [
    {
     "name": "stdout",
     "output_type": "stream",
     "text": [
      "['maximum', 'presum', 'multipli', 'provis', 'owe', 'ear', 'say', 'string', 'cri', 'meant', 'cement', 'is', 'are', 'spectra', 'live']\n",
      "['maximum', 'presumably', 'multiply', 'provision', 'owed', 'ear', 'saying', 'string', 'cry', 'meant', 'cement', 'is', 'are', 'spectrum', 'life']\n",
      "['maximum', 'presumably', 'multiply', 'provision', 'owe', 'ear', 'say', 'string', 'cry', 'mean', 'cement', 'be', 'be', 'spectra', 'live']\n"
     ]
    }
   ],
   "source": [
    "rowWords = ['maximum', 'presumably', 'multiply', 'provision', 'owed', 'ear', 'saying', 'string', 'crying', 'meant', 'cement', 'is', 'are', 'spectra', 'lives']\n",
    "\n",
    "stemmedWords = [stemmer.stem(w) for w in rowWords]\n",
    "lemWords = [lemmatiser.lemmatize(w) for w in rowWords]\n",
    "lemWordsV = [lemmatiser.lemmatize(w,'v') for w in rowWords]\n",
    "\n",
    "print(stemmedWords)\n",
    "print(lemWords)\n",
    "print(lemWordsV)"
   ]
  },
  {
   "cell_type": "code",
   "execution_count": 24,
   "metadata": {},
   "outputs": [
    {
     "data": {
      "text/plain": [
       "[('To', 'be'), ('be', 'or'), ('or', 'not'), ('not', 'to'), ('to', 'be')]"
      ]
     },
     "execution_count": 24,
     "metadata": {},
     "output_type": "execute_result"
    }
   ],
   "source": [
    "text = 'To be or not to be'\n",
    "\n",
    "tokens = word_tokenize(text)\n",
    "list(nltk.bigrams(tokens))"
   ]
  },
  {
   "cell_type": "code",
   "execution_count": 25,
   "metadata": {},
   "outputs": [
    {
     "name": "stdout",
     "output_type": "stream",
     "text": [
      "[('To', 'be'), ('be', 'or'), ('or', 'not'), ('not', 'to'), ('to', 'be')]\n",
      "[('To', 'be', 'or'), ('be', 'or', 'not'), ('or', 'not', 'to'), ('not', 'to', 'be')]\n"
     ]
    }
   ],
   "source": [
    "from nltk.util import ngrams\n",
    "\n",
    "print(list(ngrams(tokens, 2)))\n",
    "print(list(ngrams(tokens, 3)))"
   ]
  },
  {
   "cell_type": "code",
   "execution_count": 26,
   "metadata": {},
   "outputs": [
    {
     "name": "stdout",
     "output_type": "stream",
     "text": [
      "[[2 1 0 0 2 2 1 0 1]\n",
      " [0 0 1 1 1 0 1 1 0]]\n"
     ]
    }
   ],
   "source": [
    "from sklearn.feature_extraction.text import CountVectorizer\n",
    "\n",
    "data = ['Nicolas loves to watch Disney movies, but everybody loves Disney movies', 'Helene loves football, unlike Nicolas.']\n",
    "vectoriser = CountVectorizer(max_features=1000, stop_words='english')\n",
    "BOW = vectoriser.fit_transform(data).toarray()\n",
    "\n",
    "print(BOW)"
   ]
  },
  {
   "cell_type": "code",
   "execution_count": 27,
   "metadata": {},
   "outputs": [
    {
     "name": "stdout",
     "output_type": "stream",
     "text": [
      "['disney' 'everybody' 'football' 'helene' 'loves' 'movies' 'nicolas'\n",
      " 'unlike' 'watch']\n"
     ]
    }
   ],
   "source": [
    "tokens = vectoriser.get_feature_names_out()\n",
    "print(tokens)"
   ]
  },
  {
   "cell_type": "code",
   "execution_count": 28,
   "metadata": {},
   "outputs": [
    {
     "name": "stdout",
     "output_type": "stream",
     "text": [
      "   disney  everybody  football  helene  loves  movies  nicolas  unlike  watch\n",
      "0       2          1         0       0      2       2        1       0      1\n",
      "1       0          0         1       1      1       0        1       1      0\n"
     ]
    }
   ],
   "source": [
    "import pandas as pd\n",
    "\n",
    "df = pd.DataFrame(data=BOW, columns = tokens)\n",
    "print(df)"
   ]
  },
  {
   "cell_type": "code",
   "execution_count": 29,
   "metadata": {},
   "outputs": [
    {
     "name": "stdout",
     "output_type": "stream",
     "text": [
      "None\n"
     ]
    }
   ],
   "source": [
    "import re\n",
    "\n",
    "pattern = r\"a\"\n",
    "\n",
    "match = re.match(pattern, \"bcde\")\n",
    "print(match)"
   ]
  },
  {
   "cell_type": "code",
   "execution_count": 31,
   "metadata": {},
   "outputs": [
    {
     "name": "stdout",
     "output_type": "stream",
     "text": [
      "<re.Match object; span=(0, 1), match='a'>\n",
      "a\n"
     ]
    }
   ],
   "source": [
    "match = re.match(pattern, \"abca\")\n",
    "print(match)\n",
    "print(match.group())"
   ]
  },
  {
   "cell_type": "code",
   "execution_count": 32,
   "metadata": {},
   "outputs": [
    {
     "name": "stdout",
     "output_type": "stream",
     "text": [
      "<re.Match object; span=(0, 1), match='b'>\n",
      "<re.Match object; span=(0, 1), match='d'>\n"
     ]
    }
   ],
   "source": [
    "print(re.match(r\"[abc]\", \"b\"))\n",
    "print(re.match(r\"[a-e]\", \"d\"))"
   ]
  },
  {
   "cell_type": "code",
   "execution_count": 33,
   "metadata": {},
   "outputs": [
    {
     "name": "stdout",
     "output_type": "stream",
     "text": [
      "None\n",
      "<re.Match object; span=(0, 1), match='V'>\n"
     ]
    }
   ],
   "source": [
    "print(re.match(r\"[a-z]\", \"V\"))\n",
    "print(re.match(r\"[a-zA-Z]\", \"V\"))"
   ]
  },
  {
   "cell_type": "code",
   "execution_count": 36,
   "metadata": {},
   "outputs": [
    {
     "name": "stdout",
     "output_type": "stream",
     "text": [
      "<re.Match object; span=(21, 22), match='1'>\n",
      "<re.Match object; span=(21, 23), match='10'>\n",
      "['10']\n"
     ]
    }
   ],
   "source": [
    "text = \"The sky is blue only 10 minutes a day, but the sun is in our hearts.\"\n",
    "\n",
    "print(re.search(r\"\\d\", text))\n",
    "print(re.search(r\"\\d{2}\", text))\n",
    "print(re.findall(r\"\\d+\", text))"
   ]
  },
  {
   "cell_type": "code",
   "execution_count": 38,
   "metadata": {},
   "outputs": [
    {
     "name": "stdout",
     "output_type": "stream",
     "text": [
      "[' ', ' ', ' ', ' ', ' ', ' ', ' ', ' ', ', ', ' ', ' ', ' ', ' ', ' ', ' ', '.']\n",
      "['The', 'sky', 'is', 'blue', 'only', '10', 'minutes', 'a', 'day', 'but', 'the', 'sun', 'is', 'in', 'our', 'hearts']\n",
      "['Th', 'sk', 'is', 'bl', 'ue', 'on', 'ly', '10', 'mi', 'nu', 'te', 'da', 'bu', 'th', 'su', 'is', 'in', 'ou', 'he', 'ar', 'ts']\n"
     ]
    }
   ],
   "source": [
    "print(re.findall(r\"\\W+\", text))\n",
    "print(re.findall(r\"\\w+\", text))\n",
    "print(re.findall(r\"\\w{2}\", text))"
   ]
  },
  {
   "cell_type": "code",
   "execution_count": 40,
   "metadata": {},
   "outputs": [
    {
     "name": "stdout",
     "output_type": "stream",
     "text": [
      "I don't have many friends, but I have many cats.\n"
     ]
    }
   ],
   "source": [
    "print(re.sub(r\"\\sany\", \" many\", \"I don't have any friends, but I have many cats.\"))"
   ]
  },
  {
   "cell_type": "code",
   "execution_count": 41,
   "metadata": {},
   "outputs": [
    {
     "data": {
      "text/plain": [
       "\"Yes , you're right, Trump does not know what he is talking about.\""
      ]
     },
     "execution_count": 41,
     "metadata": {},
     "output_type": "execute_result"
    }
   ],
   "source": [
    "myTweet = \"Yes @Alchemy998, you're right, Trump does not know what he is talking about.\"\n",
    "re.sub(r'@\\w+', \"\", myTweet)\n"
   ]
  }
 ],
 "metadata": {
  "kernelspec": {
   "display_name": "Python 3",
   "language": "python",
   "name": "python3"
  },
  "language_info": {
   "codemirror_mode": {
    "name": "ipython",
    "version": 3
   },
   "file_extension": ".py",
   "mimetype": "text/x-python",
   "name": "python",
   "nbconvert_exporter": "python",
   "pygments_lexer": "ipython3",
   "version": "3.11.2"
  },
  "orig_nbformat": 4
 },
 "nbformat": 4,
 "nbformat_minor": 2
}
