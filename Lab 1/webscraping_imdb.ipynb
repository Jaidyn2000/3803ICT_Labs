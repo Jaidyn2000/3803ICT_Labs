{
 "cells": [
  {
   "cell_type": "code",
   "execution_count": 36,
   "metadata": {},
   "outputs": [],
   "source": [
    "from selenium import webdriver as wd\n",
    "from selenium.webdriver.common.by import By\n",
    "import math\n",
    "import numpy as np\n",
    "import csv"
   ]
  },
  {
   "cell_type": "code",
   "execution_count": 53,
   "metadata": {},
   "outputs": [
    {
     "name": "stderr",
     "output_type": "stream",
     "text": [
      "C:\\Users\\Admin\\AppData\\Local\\Temp\\ipykernel_19644\\3782209270.py:1: DeprecationWarning: executable_path has been deprecated, please pass in a Service object\n",
      "  driver = wd.Chrome('chromedriver.exe')\n"
     ]
    }
   ],
   "source": [
    "driver = wd.Chrome('chromedriver.exe')\n",
    "driver.get(\"https://www.imdb.com/chart/top\")\n",
    "\n",
    "rankings = []\n",
    "titles = []\n",
    "releaseYears = []\n",
    "casting = []\n",
    "ratings = []\n",
    "\n",
    "for i in range(250):\n",
    "    mainText = driver.find_element(By.XPATH,'//*[@id=\"main\"]/div/span/div/div/div[3]/table/tbody/tr['+ str(i+1) +']/td[2]').text\n",
    "    # XXX. MOVIE NAME (RELEASEYEAR) is the format of mainText\n",
    "    # Finds where the dot is depending on the length of the number, then reads the number, removes the closing bracket and the opening dot and whitespace and splits by the middle bracket\n",
    "    dotIndex = math.floor(np.log10(i+1)) + 1\n",
    "\n",
    "    rankings.append(mainText[:dotIndex])\n",
    "\n",
    "    mainText = mainText[dotIndex+2:-1]\n",
    "    mainText = mainText.split('(')\n",
    "    \n",
    "    mainText[0] = mainText[0].replace(',',';')\n",
    "    titles.append(mainText[0][:-1])\n",
    "    releaseYears.append(mainText[1])\n",
    "\n",
    "    ratings.append(driver.find_element(By.XPATH,'//*[@id=\"main\"]/div/span/div/div/div[3]/table/tbody/tr['+ str(i+1) +']/td[3]/strong').text)\n",
    "    castingText = driver.find_element(By.XPATH,'//*[@id=\"main\"]/div/span/div/div/div[3]/table/tbody/tr['+ str(i+1) +']/td[2]/a').get_attribute(\"title\")\n",
    "    castingText = castingText.replace(',',';')\n",
    "    casting.append(castingText)\n",
    "\n",
    "driver.close()\n"
   ]
  },
  {
   "cell_type": "code",
   "execution_count": 55,
   "metadata": {},
   "outputs": [
    {
     "name": "stdout",
     "output_type": "stream",
     "text": [
      "250\n"
     ]
    }
   ],
   "source": [
    "filename = \"imdb_top_250.csv\"\n",
    "headers = ['Ranking', 'Titles', 'Release Years', 'Ratings', 'Casting']\n",
    "print(len(titles))\n",
    "\n",
    "with open(filename, 'w') as csvFile:\n",
    "    csvWriter = csv.writer(csvFile)\n",
    "    for i in range(len(headers)):\n",
    "        csvFile.write(headers[i] +',')\n",
    "    csvFile.write('\\n')\n",
    "\n",
    "    for i in range(250):\n",
    "        csvFile.write(rankings[i] + ',' + titles[i] + ',' + releaseYears[i]+ ',' + ratings[i]+ ',' + casting[i]+ '\\n')\n",
    "    "
   ]
  }
 ],
 "metadata": {
  "kernelspec": {
   "display_name": "Python 3.9.12 ('base')",
   "language": "python",
   "name": "python3"
  },
  "language_info": {
   "codemirror_mode": {
    "name": "ipython",
    "version": 3
   },
   "file_extension": ".py",
   "mimetype": "text/x-python",
   "name": "python",
   "nbconvert_exporter": "python",
   "pygments_lexer": "ipython3",
   "version": "3.9.16"
  },
  "vscode": {
   "interpreter": {
    "hash": "2043299c89c8cd0b4d1a6f5cf4529bd58e6a4e0fe3181a25e0d328c821cdc5c5"
   }
  }
 },
 "nbformat": 4,
 "nbformat_minor": 2
}
