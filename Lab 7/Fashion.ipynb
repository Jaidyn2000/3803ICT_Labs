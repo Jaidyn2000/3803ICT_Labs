{
 "cells": [
  {
   "cell_type": "markdown",
   "metadata": {},
   "source": [
    "# Image Classification by MLP - Fashion MNIST"
   ]
  },
  {
   "cell_type": "markdown",
   "metadata": {},
   "source": [
    "In this exercise, we will try to use a neural network on a simple classification task: classifying images of clothes into 10 classes."
   ]
  },
  {
   "cell_type": "markdown",
   "metadata": {},
   "source": [
    "We will first download the data:"
   ]
  },
  {
   "cell_type": "code",
   "execution_count": 1,
   "metadata": {
    "scrolled": true
   },
   "outputs": [
    {
     "data": {
      "text/plain": [
       "(60000, 28, 28)"
      ]
     },
     "execution_count": 1,
     "metadata": {},
     "output_type": "execute_result"
    }
   ],
   "source": [
    "import tensorflow as tf\n",
    "from tensorflow.keras.datasets import fashion_mnist #type: ignore\n",
    "\n",
    "#TODO: load dataset\n",
    "(XTrain, yTrain), (XTest, yTest) = fashion_mnist.load_data()\n",
    "\n",
    "#TODO: Resample the dataset if needed\n",
    "#X_train = ...\n",
    "#y_train = ...\n",
    "#X_test = ...\n",
    "#y_test = ...\n",
    "\n",
    "XTrain.shape"
   ]
  },
  {
   "cell_type": "markdown",
   "metadata": {},
   "source": [
    "This dataset contains 10 classes:\n",
    "* 0:\tT-shirt/top\n",
    "* 1:\tTrouser\n",
    "* 2:\tPullover\n",
    "* 3:\tDress\n",
    "* 4:\tCoat\n",
    "* 5:\tSandal\n",
    "* 6:\tShirt\n",
    "* 7:\tSneaker\n",
    "* 8:\tBag\n",
    "* 9:\tAnkle boot"
   ]
  },
  {
   "cell_type": "markdown",
   "metadata": {},
   "source": [
    "Now begin by exploring the data. Try to display some images with the associated label."
   ]
  },
  {
   "cell_type": "code",
   "execution_count": 2,
   "metadata": {
    "scrolled": true
   },
   "outputs": [
    {
     "data": {
      "image/png": "[encoded data removed]",
      "text/plain": [
       "<Figure size 640x480 with 1 Axes>"
      ]
     },
     "metadata": {},
     "output_type": "display_data"
    }
   ],
   "source": [
    "# TODO: Explore the data, display some input images\n",
    "%matplotlib inline\n",
    "import matplotlib.pyplot as plt\n",
    "import numpy as np\n",
    "\n",
    "labelClass = ['top', 'trouser', 'pullover', 'dress', 'coat', 'sandal', 'shirt', 'sneaker', 'bag', 'ankle boot']\n",
    "\n",
    "# np.random.seed(0)\n",
    "idx = np.random.randint(XTrain.shape[0])\n",
    "\n",
    "plt.imshow(XTrain[idx], cmap = \"gray_r\")\n",
    "plt.title(labelClass[yTrain[idx]])\n",
    "plt.show()"
   ]
  },
  {
   "cell_type": "markdown",
   "metadata": {},
   "source": [
    "**Before going further**: what methods could you use to perform such a classification task?"
   ]
  },
  {
   "cell_type": "markdown",
   "metadata": {},
   "source": [
    "---"
   ]
  },
  {
   "cell_type": "markdown",
   "metadata": {},
   "source": [
    "The first method you will try is using neural networks. First step is the data preparation: data rescaling, label preparation.\n",
    "\n",
    "Hint: you can use the Keras function `to_categorical`"
   ]
  },
  {
   "cell_type": "code",
   "execution_count": 3,
   "metadata": {},
   "outputs": [],
   "source": [
    "# TODO: Make the data preparation\n",
    "from tensorflow.keras.utils import to_categorical #type: ignore\n",
    "\n",
    "yTrainCat = to_categorical(yTrain, num_classes = 10)\n",
    "yTestCat = to_categorical(yTest, num_classes = 10)\n",
    "\n",
    "XTrainNorm = XTrain / 255\n",
    "XTestNorm = XTest / 255\n",
    "\n",
    "# TODO: reshape the image data (2D array) into input 1D array for a neural network\n",
    "XTrainNorm = XTrainNorm.reshape(XTrainNorm.shape[0], XTrainNorm.shape[1] * XTrainNorm.shape[2])\n",
    "XTestNorm = XTestNorm.reshape(XTestNorm.shape[0], XTestNorm.shape[1] * XTestNorm.shape[2])"
   ]
  },
  {
   "cell_type": "markdown",
   "metadata": {},
   "source": [
    "Next step: model building with Keras. Build your neural network architecture. At first, I would recommend a light architecture: no more than 2 hidden layers, with about 10 units per layer. Put that model into a function, so that you can reuse it later."
   ]
  },
  {
   "cell_type": "code",
   "execution_count": 23,
   "metadata": {},
   "outputs": [],
   "source": [
    "# TODO: Build your model\n",
    "from tensorflow.keras.models import Sequential  #type: ignore\n",
    "from tensorflow.keras.layers import Dense  #type: ignore\n",
    "\n",
    "def myModel(input_dim):\n",
    "    # Create the Sequential object\n",
    "    model = Sequential()\n",
    "\n",
    "    # Add 2 dense layers with 10 neurons each using sigmoid or relu activation\n",
    "    model.add(Dense(800, input_dim = input_dim, activation = \"sigmoid\"))\n",
    "    \n",
    "    # Add the output layer with one unit: the predicted result\n",
    "    model.add(Dense(10, activation='softmax'))\n",
    "    \n",
    "    return model\n"
   ]
  },
  {
   "cell_type": "markdown",
   "metadata": {},
   "source": [
    "Now compile and fit your model on your training data. Since this is a multiclass classification, the loss is not `binary_crossentropy` anymore, but `categorical_crossentropy`."
   ]
  },
  {
   "cell_type": "code",
   "execution_count": 29,
   "metadata": {
    "scrolled": true
   },
   "outputs": [
    {
     "name": "stdout",
     "output_type": "stream",
     "text": [
      "Epoch 1/100\n",
      "469/469 [==============================] - 3s 5ms/step - loss: 0.0280 - accuracy: 0.8053\n",
      "Epoch 2/100\n",
      "469/469 [==============================] - 3s 5ms/step - loss: 0.0217 - accuracy: 0.8511\n",
      "Epoch 3/100\n",
      "469/469 [==============================] - 3s 5ms/step - loss: 0.0199 - accuracy: 0.8636\n",
      "Epoch 4/100\n",
      "469/469 [==============================] - 3s 6ms/step - loss: 0.0187 - accuracy: 0.8716\n",
      "Epoch 5/100\n",
      "469/469 [==============================] - 2s 5ms/step - loss: 0.0180 - accuracy: 0.8758\n",
      "Epoch 6/100\n",
      "469/469 [==============================] - 2s 5ms/step - loss: 0.0172 - accuracy: 0.8829\n",
      "Epoch 7/100\n",
      "469/469 [==============================] - 2s 5ms/step - loss: 0.0166 - accuracy: 0.8868\n",
      "Epoch 8/100\n",
      "469/469 [==============================] - 2s 5ms/step - loss: 0.0161 - accuracy: 0.8907\n",
      "Epoch 9/100\n",
      "469/469 [==============================] - 2s 5ms/step - loss: 0.0154 - accuracy: 0.8948\n",
      "Epoch 10/100\n",
      "469/469 [==============================] - 2s 5ms/step - loss: 0.0150 - accuracy: 0.8977\n",
      "Epoch 11/100\n",
      "469/469 [==============================] - 2s 5ms/step - loss: 0.0145 - accuracy: 0.9028\n",
      "Epoch 12/100\n",
      "469/469 [==============================] - 3s 5ms/step - loss: 0.0140 - accuracy: 0.9058\n",
      "Epoch 13/100\n",
      "469/469 [==============================] - 3s 6ms/step - loss: 0.0137 - accuracy: 0.9080\n",
      "Epoch 14/100\n",
      "469/469 [==============================] - 3s 6ms/step - loss: 0.0132 - accuracy: 0.9112\n",
      "Epoch 15/100\n",
      "469/469 [==============================] - 3s 5ms/step - loss: 0.0129 - accuracy: 0.9141\n",
      "Epoch 16/100\n",
      "469/469 [==============================] - 3s 6ms/step - loss: 0.0126 - accuracy: 0.9163\n",
      "Epoch 17/100\n",
      "469/469 [==============================] - 3s 6ms/step - loss: 0.0122 - accuracy: 0.9197\n",
      "Epoch 18/100\n",
      "469/469 [==============================] - 3s 5ms/step - loss: 0.0119 - accuracy: 0.9212\n",
      "Epoch 19/100\n",
      "469/469 [==============================] - 3s 5ms/step - loss: 0.0115 - accuracy: 0.9247\n",
      "Epoch 20/100\n",
      "469/469 [==============================] - 3s 5ms/step - loss: 0.0112 - accuracy: 0.9256\n",
      "Epoch 21/100\n",
      "469/469 [==============================] - 3s 6ms/step - loss: 0.0111 - accuracy: 0.9281\n",
      "Epoch 22/100\n",
      "469/469 [==============================] - 3s 5ms/step - loss: 0.0107 - accuracy: 0.9301\n",
      "Epoch 23/100\n",
      "469/469 [==============================] - 2s 5ms/step - loss: 0.0104 - accuracy: 0.9322\n",
      "Epoch 24/100\n",
      "469/469 [==============================] - 2s 5ms/step - loss: 0.0101 - accuracy: 0.9350\n",
      "Epoch 25/100\n",
      "469/469 [==============================] - 2s 5ms/step - loss: 0.0099 - accuracy: 0.9358\n",
      "Epoch 26/100\n",
      "469/469 [==============================] - 3s 5ms/step - loss: 0.0097 - accuracy: 0.9378\n",
      "Epoch 27/100\n",
      "469/469 [==============================] - 2s 5ms/step - loss: 0.0094 - accuracy: 0.9396\n",
      "Epoch 28/100\n",
      "469/469 [==============================] - 2s 5ms/step - loss: 0.0091 - accuracy: 0.9409\n",
      "Epoch 29/100\n",
      "469/469 [==============================] - 2s 5ms/step - loss: 0.0089 - accuracy: 0.9436\n",
      "Epoch 30/100\n",
      "469/469 [==============================] - 2s 5ms/step - loss: 0.0087 - accuracy: 0.9445\n",
      "Epoch 31/100\n",
      "469/469 [==============================] - 2s 5ms/step - loss: 0.0084 - accuracy: 0.9467\n",
      "Epoch 32/100\n",
      "469/469 [==============================] - 2s 5ms/step - loss: 0.0083 - accuracy: 0.9464\n",
      "Epoch 33/100\n",
      "469/469 [==============================] - 2s 5ms/step - loss: 0.0080 - accuracy: 0.9494\n",
      "Epoch 34/100\n",
      "469/469 [==============================] - 2s 5ms/step - loss: 0.0077 - accuracy: 0.9520\n",
      "Epoch 35/100\n",
      "469/469 [==============================] - 2s 5ms/step - loss: 0.0076 - accuracy: 0.9521\n",
      "Epoch 36/100\n",
      "469/469 [==============================] - 2s 5ms/step - loss: 0.0075 - accuracy: 0.9532\n",
      "Epoch 37/100\n",
      "469/469 [==============================] - 2s 5ms/step - loss: 0.0072 - accuracy: 0.9550\n",
      "Epoch 38/100\n",
      "469/469 [==============================] - 2s 5ms/step - loss: 0.0071 - accuracy: 0.9560\n",
      "Epoch 39/100\n",
      "469/469 [==============================] - 2s 5ms/step - loss: 0.0069 - accuracy: 0.9570\n",
      "Epoch 40/100\n",
      "469/469 [==============================] - 2s 5ms/step - loss: 0.0066 - accuracy: 0.9596\n",
      "Epoch 41/100\n",
      "469/469 [==============================] - 2s 5ms/step - loss: 0.0066 - accuracy: 0.9591\n",
      "Epoch 42/100\n",
      "469/469 [==============================] - 2s 5ms/step - loss: 0.0064 - accuracy: 0.9607\n",
      "Epoch 43/100\n",
      "469/469 [==============================] - 2s 5ms/step - loss: 0.0062 - accuracy: 0.9619\n",
      "Epoch 44/100\n",
      "469/469 [==============================] - 2s 5ms/step - loss: 0.0060 - accuracy: 0.9632\n",
      "Epoch 45/100\n",
      "469/469 [==============================] - 2s 5ms/step - loss: 0.0059 - accuracy: 0.9641\n",
      "Epoch 46/100\n",
      "469/469 [==============================] - 2s 5ms/step - loss: 0.0059 - accuracy: 0.9645\n",
      "Epoch 47/100\n",
      "469/469 [==============================] - 3s 5ms/step - loss: 0.0057 - accuracy: 0.9655\n",
      "Epoch 48/100\n",
      "469/469 [==============================] - 2s 5ms/step - loss: 0.0055 - accuracy: 0.9670\n",
      "Epoch 49/100\n",
      "469/469 [==============================] - 2s 5ms/step - loss: 0.0053 - accuracy: 0.9678\n",
      "Epoch 50/100\n",
      "469/469 [==============================] - 2s 5ms/step - loss: 0.0052 - accuracy: 0.9693\n",
      "Epoch 51/100\n",
      "469/469 [==============================] - 2s 5ms/step - loss: 0.0050 - accuracy: 0.9702\n",
      "Epoch 52/100\n",
      "469/469 [==============================] - 2s 5ms/step - loss: 0.0050 - accuracy: 0.9699\n",
      "Epoch 53/100\n",
      "469/469 [==============================] - 2s 5ms/step - loss: 0.0049 - accuracy: 0.9701\n",
      "Epoch 54/100\n",
      "469/469 [==============================] - 2s 5ms/step - loss: 0.0047 - accuracy: 0.9716\n",
      "Epoch 55/100\n",
      "469/469 [==============================] - 2s 5ms/step - loss: 0.0047 - accuracy: 0.9720\n",
      "Epoch 56/100\n",
      "469/469 [==============================] - 2s 5ms/step - loss: 0.0045 - accuracy: 0.9734\n",
      "Epoch 57/100\n",
      "469/469 [==============================] - 2s 5ms/step - loss: 0.0044 - accuracy: 0.9735\n",
      "Epoch 58/100\n",
      "469/469 [==============================] - 2s 5ms/step - loss: 0.0044 - accuracy: 0.9740\n",
      "Epoch 59/100\n",
      "469/469 [==============================] - 2s 5ms/step - loss: 0.0043 - accuracy: 0.9743\n",
      "Epoch 60/100\n",
      "469/469 [==============================] - 2s 5ms/step - loss: 0.0043 - accuracy: 0.9751\n",
      "Epoch 61/100\n",
      "469/469 [==============================] - 2s 5ms/step - loss: 0.0042 - accuracy: 0.9750\n",
      "Epoch 62/100\n",
      "469/469 [==============================] - 2s 5ms/step - loss: 0.0040 - accuracy: 0.9768\n",
      "Epoch 63/100\n",
      "469/469 [==============================] - 2s 5ms/step - loss: 0.0039 - accuracy: 0.9777\n",
      "Epoch 64/100\n",
      "469/469 [==============================] - 3s 5ms/step - loss: 0.0038 - accuracy: 0.9776\n",
      "Epoch 65/100\n",
      "469/469 [==============================] - 3s 5ms/step - loss: 0.0039 - accuracy: 0.9775\n",
      "Epoch 66/100\n",
      "469/469 [==============================] - 2s 5ms/step - loss: 0.0037 - accuracy: 0.9790\n",
      "Epoch 67/100\n",
      "469/469 [==============================] - 3s 5ms/step - loss: 0.0036 - accuracy: 0.9795\n",
      "Epoch 68/100\n",
      "469/469 [==============================] - 2s 5ms/step - loss: 0.0037 - accuracy: 0.9785\n",
      "Epoch 69/100\n",
      "469/469 [==============================] - 2s 5ms/step - loss: 0.0037 - accuracy: 0.9785\n",
      "Epoch 70/100\n",
      "469/469 [==============================] - 3s 5ms/step - loss: 0.0035 - accuracy: 0.9801\n",
      "Epoch 71/100\n",
      "469/469 [==============================] - 3s 6ms/step - loss: 0.0034 - accuracy: 0.9805\n",
      "Epoch 72/100\n",
      "469/469 [==============================] - 3s 5ms/step - loss: 0.0032 - accuracy: 0.9816\n",
      "Epoch 73/100\n",
      "469/469 [==============================] - 3s 5ms/step - loss: 0.0034 - accuracy: 0.9802\n",
      "Epoch 74/100\n",
      "469/469 [==============================] - 2s 5ms/step - loss: 0.0033 - accuracy: 0.9807\n",
      "Epoch 75/100\n",
      "469/469 [==============================] - 2s 5ms/step - loss: 0.0032 - accuracy: 0.9821\n",
      "Epoch 76/100\n",
      "469/469 [==============================] - 2s 5ms/step - loss: 0.0031 - accuracy: 0.9826\n",
      "Epoch 77/100\n",
      "469/469 [==============================] - 3s 5ms/step - loss: 0.0033 - accuracy: 0.9811\n",
      "Epoch 78/100\n",
      "469/469 [==============================] - 2s 5ms/step - loss: 0.0031 - accuracy: 0.9822\n",
      "Epoch 79/100\n",
      "469/469 [==============================] - 2s 5ms/step - loss: 0.0030 - accuracy: 0.9824\n",
      "Epoch 80/100\n",
      "469/469 [==============================] - 2s 5ms/step - loss: 0.0030 - accuracy: 0.9829\n",
      "Epoch 81/100\n",
      "469/469 [==============================] - 2s 5ms/step - loss: 0.0029 - accuracy: 0.9836\n",
      "Epoch 82/100\n",
      "469/469 [==============================] - 2s 5ms/step - loss: 0.0029 - accuracy: 0.9833\n",
      "Epoch 83/100\n",
      "469/469 [==============================] - 2s 5ms/step - loss: 0.0028 - accuracy: 0.9845\n",
      "Epoch 84/100\n",
      "469/469 [==============================] - 2s 5ms/step - loss: 0.0029 - accuracy: 0.9836\n",
      "Epoch 85/100\n",
      "469/469 [==============================] - 2s 5ms/step - loss: 0.0027 - accuracy: 0.9844\n",
      "Epoch 86/100\n",
      "469/469 [==============================] - 3s 5ms/step - loss: 0.0029 - accuracy: 0.9835\n",
      "Epoch 87/100\n",
      "469/469 [==============================] - 3s 5ms/step - loss: 0.0026 - accuracy: 0.9856\n",
      "Epoch 88/100\n",
      "469/469 [==============================] - 3s 5ms/step - loss: 0.0027 - accuracy: 0.9847\n",
      "Epoch 89/100\n",
      "469/469 [==============================] - 3s 5ms/step - loss: 0.0027 - accuracy: 0.9845\n",
      "Epoch 90/100\n",
      "469/469 [==============================] - 3s 5ms/step - loss: 0.0026 - accuracy: 0.9850\n",
      "Epoch 91/100\n",
      "469/469 [==============================] - 2s 5ms/step - loss: 0.0026 - accuracy: 0.9850\n",
      "Epoch 92/100\n",
      "469/469 [==============================] - 3s 5ms/step - loss: 0.0025 - accuracy: 0.9860\n",
      "Epoch 93/100\n",
      "469/469 [==============================] - 2s 5ms/step - loss: 0.0023 - accuracy: 0.9872\n",
      "Epoch 94/100\n",
      "469/469 [==============================] - 3s 5ms/step - loss: 0.0026 - accuracy: 0.9856\n",
      "Epoch 95/100\n",
      "469/469 [==============================] - 3s 5ms/step - loss: 0.0026 - accuracy: 0.9853\n",
      "Epoch 96/100\n",
      "469/469 [==============================] - 3s 5ms/step - loss: 0.0024 - accuracy: 0.9869\n",
      "Epoch 97/100\n",
      "469/469 [==============================] - 2s 5ms/step - loss: 0.0024 - accuracy: 0.9866\n",
      "Epoch 98/100\n",
      "469/469 [==============================] - 2s 5ms/step - loss: 0.0024 - accuracy: 0.9865\n",
      "Epoch 99/100\n",
      "469/469 [==============================] - 2s 5ms/step - loss: 0.0024 - accuracy: 0.9864\n",
      "Epoch 100/100\n",
      "469/469 [==============================] - 2s 5ms/step - loss: 0.0024 - accuracy: 0.9869\n"
     ]
    },
    {
     "data": {
      "text/plain": [
       "<keras.callbacks.History at 0x114c2a3fed0>"
      ]
     },
     "execution_count": 29,
     "metadata": {},
     "output_type": "execute_result"
    }
   ],
   "source": [
    "import os\n",
    "\n",
    "#https://stackoverflow.com/questions/53014306/error-15-initializing-libiomp5-dylib-but-found-libiomp5-dylib-already-initial\n",
    "# os.environ['KMP_DUPLICATE_LIB_OK']='True' \n",
    "\n",
    "# TODO: Compile and fit your model\n",
    "model = myModel(XTrainNorm.shape[1])\n",
    "\n",
    "model.compile(optimizer='adam', loss='mean_squared_error', metrics=['accuracy'])\n",
    "\n",
    "model.fit(XTrainNorm, yTrainCat, epochs=100, batch_size = 128)\n"
   ]
  },
  {
   "cell_type": "markdown",
   "metadata": {},
   "source": [
    "Once your model has been trained, compute the accuracy (and other metrics if you want) on the train and test dataset.\n",
    "\n",
    "Be careful, Keras returns softmax output (so an array of 10 values between 0 and 1, for which the sum is equal to 1). To compute correctly the accuracy, you have to convert that array into a categorical array with zeros and a 1."
   ]
  },
  {
   "cell_type": "code",
   "execution_count": 30,
   "metadata": {},
   "outputs": [
    {
     "name": "stdout",
     "output_type": "stream",
     "text": [
      "accuracy on train with NN: 0.9838166832923889\n",
      "accuracy on test with NN: 0.8956999778747559\n"
     ]
    }
   ],
   "source": [
    "# TODO: Compute the accuracy of your model\n",
    "print('accuracy on train with NN:', model.evaluate(XTrainNorm, yTrainCat, verbose=0)[1])\n",
    "print('accuracy on test with NN:', model.evaluate(XTestNorm, yTestCat, verbose=0)[1])\n",
    "\n",
    "# We can nearly beat LeNet5 with a single layer, and this is a good result\n",
    "# It takes a small fraction of the time to train"
   ]
  },
  {
   "cell_type": "markdown",
   "metadata": {},
   "source": [
    "What do you think of those results? Can you improve it by changing the number of layers? Of units per layer? The number of epochs? The activation functions?\n",
    "\n",
    "You should try!"
   ]
  },
  {
   "cell_type": "markdown",
   "metadata": {},
   "source": [
    "---"
   ]
  },
  {
   "cell_type": "markdown",
   "metadata": {},
   "source": [
    "In order to compare your results with more traditional machine learning methods, you will do this work with another method: a PCA followed by a classification model (of your choice). Of course, you can perform hyperparameter optimization using a gridsearch on that model!\n",
    "\n",
    "Fit your model and display the performances."
   ]
  },
  {
   "cell_type": "code",
   "execution_count": 31,
   "metadata": {},
   "outputs": [],
   "source": [
    "# TODO: Redo the classification with PCA and classification model\n",
    "from sklearn.decomposition import PCA\n",
    "\n",
    "pca = PCA(n_components=0.9)\n",
    "\n",
    "pca.fit(XTrainNorm)\n",
    "XTrainPCA = pca.transform(XTrainNorm)\n",
    "XTestPCA = pca.transform(XTestNorm)"
   ]
  },
  {
   "cell_type": "code",
   "execution_count": 32,
   "metadata": {},
   "outputs": [
    {
     "name": "stdout",
     "output_type": "stream",
     "text": [
      "score with RF on train 1.0\n",
      "score with RF on test 0.862\n"
     ]
    }
   ],
   "source": [
    "# TODO: use any classifier you want\n",
    "from sklearn.ensemble import RandomForestClassifier\n",
    "\n",
    "rf = RandomForestClassifier()\n",
    "\n",
    "rf.fit(XTrainPCA, yTrain)\n",
    "\n",
    "print('score with RF on train', rf.score(XTrainPCA, yTrain))\n",
    "print('score with RF on test', rf.score(XTestPCA, yTest))\n",
    "\n",
    "# The Neural Network outperforms the Random Forest, while LeNet5 outperforms a standard NN. \n",
    "# LeNet5 works very well with images due to the use of Convolutions, whereas the Random Forest is easier on system resources works best with categorical data.\n",
    "# Standard NNs are good in general, but are unspecialised."
   ]
  },
  {
   "cell_type": "markdown",
   "metadata": {},
   "source": [
    "Are the performances different? Can you explain why?"
   ]
  },
  {
   "cell_type": "markdown",
   "metadata": {},
   "source": [
    "If you still have time, you could try to use scikit-learn's `Pipeline` to perform the hyperparameter optimization jointly on the PCA and the classification model. This might improve your performances."
   ]
  }
 ],
 "metadata": {
  "kernelspec": {
   "display_name": "Python 3",
   "language": "python",
   "name": "python3"
  },
  "language_info": {
   "codemirror_mode": {
    "name": "ipython",
    "version": 3
   },
   "file_extension": ".py",
   "mimetype": "text/x-python",
   "name": "python",
   "nbconvert_exporter": "python",
   "pygments_lexer": "ipython3",
   "version": "3.11.2"
  },
  "toc": {
   "base_numbering": 1,
   "nav_menu": {},
   "number_sections": true,
   "sideBar": true,
   "skip_h1_title": false,
   "title_cell": "Table of Contents",
   "title_sidebar": "Contents",
   "toc_cell": false,
   "toc_position": {},
   "toc_section_display": true,
   "toc_window_display": false
  }
 },
 "nbformat": 4,
 "nbformat_minor": 2
}
